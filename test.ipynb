{
 "cells": [
  {
   "cell_type": "code",
   "execution_count": 10,
   "metadata": {},
   "outputs": [
    {
     "name": "stdout",
     "output_type": "stream",
     "text": [
      "Estimated memory usage: 0.53 GB\n"
     ]
    }
   ],
   "source": [
    "# GPT-2 Small Specifications\n",
    "num_layers = 12\n",
    "num_heads = 12\n",
    "vocab_size = 55236\n",
    "hidden_dim = 768\n",
    "seq_length = 2048\n",
    "\n",
    "# Memory for token embeddings\n",
    "token_embeddings = vocab_size * hidden_dim * 4  # 4 bytes per float32\n",
    "\n",
    "# Memory for position embeddings\n",
    "position_embeddings = seq_length * hidden_dim * 4\n",
    "\n",
    "# Memory for layer parameters (assuming layer normalization, attention, and feedforward for each layer)\n",
    "layer_norm = 2 * hidden_dim * 4  # 2 for scale and bias\n",
    "attention = 4 * hidden_dim * hidden_dim * 4  # Query, Key, Value, and Output matrices\n",
    "feedforward = 4 * hidden_dim * hidden_dim * 4  # Two linear layers, typically 4x expansion\n",
    "layer_params = (layer_norm + attention + feedforward) * num_layers\n",
    "\n",
    "# Memory for attention cache\n",
    "attention_cache = num_layers * num_heads * seq_length * (hidden_dim // num_heads) * 2 * 4  # Key and Value states\n",
    "\n",
    "# Memory for activations (rough estimate, varies during inference)\n",
    "activations = seq_length * hidden_dim * 4 * 3  # Rough estimate for main activations\n",
    "\n",
    "# Total memory\n",
    "total_memory = token_embeddings + position_embeddings + layer_params + attention_cache + activations\n",
    "\n",
    "# Convert to GB\n",
    "total_memory_gb = total_memory / (1024**3)\n",
    "\n",
    "print(f\"Estimated memory usage: {total_memory_gb:.2f} GB\")"
   ]
  },
  {
   "cell_type": "code",
   "execution_count": 6,
   "metadata": {},
   "outputs": [],
   "source": [
    "# save in a format readable by c\n",
    "import numpy as np\n",
    "import torch\n",
    "\n",
    "data = torch.load('pytorch_model.bin', map_location='cpu')"
   ]
  },
  {
   "cell_type": "code",
   "execution_count": null,
   "metadata": {},
   "outputs": [],
   "source": [
    "for i in data.keys():\n",
    "    print(i, data[i].shape)"
   ]
  },
  {
   "cell_type": "code",
   "execution_count": 9,
   "metadata": {},
   "outputs": [
    {
     "data": {
      "text/plain": [
       "<matplotlib.image.AxesImage at 0x717bd92ff640>"
      ]
     },
     "execution_count": 9,
     "metadata": {},
     "output_type": "execute_result"
    },
    {
     "data": {
      "image/png": "[encoded data removed]",
      "text/plain": [
       "<Figure size 432x288 with 1 Axes>"
      ]
     },
     "metadata": {
      "needs_background": "light"
     },
     "output_type": "display_data"
    }
   ],
   "source": [
    "# plot wpe.weight\n",
    "\n",
    "import matplotlib.pyplot as plt\n",
    "wpe = data['wpe.weight'].numpy()\n",
    "\n",
    "plt.imshow(wpe)"
   ]
  },
  {
   "cell_type": "code",
   "execution_count": 3,
   "metadata": {},
   "outputs": [
    {
     "data": {
      "text/plain": [
       "torch.Size([768, 768])"
      ]
     },
     "execution_count": 3,
     "metadata": {},
     "output_type": "execute_result"
    }
   ],
   "source": [
    "data['h.0.attn.c_proj.weight'].shape"
   ]
  },
  {
   "cell_type": "code",
   "execution_count": 9,
   "metadata": {},
   "outputs": [
    {
     "name": "stdout",
     "output_type": "stream",
     "text": [
      "(768, 768) (768, 768) (768, 768) torch.Size([768, 2304])\n",
      "(768,) (768,) (768,) torch.Size([2304])\n",
      "(768, 768) (768, 768) (768, 768) torch.Size([768, 2304])\n",
      "(768,) (768,) (768,) torch.Size([2304])\n",
      "(768, 768) (768, 768) (768, 768) torch.Size([768, 2304])\n",
      "(768,) (768,) (768,) torch.Size([2304])\n",
      "(768, 768) (768, 768) (768, 768) torch.Size([768, 2304])\n",
      "(768,) (768,) (768,) torch.Size([2304])\n",
      "(768, 768) (768, 768) (768, 768) torch.Size([768, 2304])\n",
      "(768,) (768,) (768,) torch.Size([2304])\n",
      "(768, 768) (768, 768) (768, 768) torch.Size([768, 2304])\n",
      "(768,) (768,) (768,) torch.Size([2304])\n",
      "(768, 768) (768, 768) (768, 768) torch.Size([768, 2304])\n",
      "(768,) (768,) (768,) torch.Size([2304])\n",
      "(768, 768) (768, 768) (768, 768) torch.Size([768, 2304])\n",
      "(768,) (768,) (768,) torch.Size([2304])\n",
      "(768, 768) (768, 768) (768, 768) torch.Size([768, 2304])\n",
      "(768,) (768,) (768,) torch.Size([2304])\n",
      "(768, 768) (768, 768) (768, 768) torch.Size([768, 2304])\n",
      "(768,) (768,) (768,) torch.Size([2304])\n",
      "(768, 768) (768, 768) (768, 768) torch.Size([768, 2304])\n",
      "(768,) (768,) (768,) torch.Size([2304])\n",
      "(768, 768) (768, 768) (768, 768) torch.Size([768, 2304])\n",
      "(768,) (768,) (768,) torch.Size([2304])\n"
     ]
    }
   ],
   "source": [
    "import os\n",
    "os.makedirs(\"gpt_weights\", exist_ok=True)\n",
    "for key in data.keys():\n",
    "    if \"attn.c_attn\" in key:\n",
    "        # split to q, k, v\n",
    "        q, k, v = np.split(data[key].numpy(), 3, axis=-1)\n",
    "        print(q.shape, k.shape, v.shape, data[key].shape)\n",
    "        # q.tofile(f\"gpt_weights/{key}.q.bin\")\n",
    "        # k.tofile(f\"gpt_weights/{key}.k.bin\")\n",
    "        # v.tofile(f\"gpt_weights/{key}.v.bin\")\n",
    "    else:\n",
    "        pass\n",
    "        # data[key].numpy().tofile(f\"gpt_weights/{key}.bin\")\n",
    "        # print(data[key].numpy().shape)\n",
    "\n",
    "# save transpose of wte.weight as etw.weight\n",
    "\n",
    "etw = data['wte.weight'].numpy().T\n",
    "etw.tofile(\"gpt_weights/etw.weight.bin\")"
   ]
  },
  {
   "cell_type": "code",
   "execution_count": 1,
   "metadata": {},
   "outputs": [
    {
     "data": {
      "image/png": "[encoded data removed]",
      "text/plain": [
       "<Figure size 864x576 with 1 Axes>"
      ]
     },
     "metadata": {
      "needs_background": "light"
     },
     "output_type": "display_data"
    }
   ],
   "source": [
    "import numpy as np\n",
    "import matplotlib.pyplot as plt\n",
    "\n",
    "# Define the entropy values\n",
    "H_values = [0.1, 1, 3, 5]\n",
    "\n",
    "# Define the range for temperature\n",
    "T_values = np.linspace(0.1, 1, 100)\n",
    "\n",
    "# Calculate H_T for each H and T\n",
    "def H_T(H, T):\n",
    "    return H / T + np.log(T) / T\n",
    "\n",
    "# Plotting\n",
    "plt.figure(figsize=(12, 8))\n",
    "for H in H_values:\n",
    "    HT_values = H_T(H, T_values)\n",
    "    plt.plot(T_values, HT_values, label=f'H = {H}')\n",
    "\n",
    "plt.xlabel('Temperature (T)')\n",
    "plt.ylabel('H_T(X)')\n",
    "plt.title('Temperature vs. Temperature-Adjusted Entropy (H_T)')\n",
    "plt.legend()\n",
    "plt.grid(True)\n",
    "plt.show()\n"
   ]
  },
  {
   "cell_type": "code",
   "execution_count": 2,
   "metadata": {},
   "outputs": [
    {
     "data": {
      "text/plain": [
       "GPT2Config {\n",
       "  \"_name_or_path\": \"gpt2\",\n",
       "  \"activation_function\": \"gelu_new\",\n",
       "  \"architectures\": [\n",
       "    \"GPT2LMHeadModel\"\n",
       "  ],\n",
       "  \"attn_pdrop\": 0.1,\n",
       "  \"bos_token_id\": 50256,\n",
       "  \"embd_pdrop\": 0.1,\n",
       "  \"eos_token_id\": 50256,\n",
       "  \"initializer_range\": 0.02,\n",
       "  \"layer_norm_epsilon\": 1e-05,\n",
       "  \"model_type\": \"gpt2\",\n",
       "  \"n_ctx\": 1024,\n",
       "  \"n_embd\": 768,\n",
       "  \"n_head\": 12,\n",
       "  \"n_inner\": null,\n",
       "  \"n_layer\": 12,\n",
       "  \"n_positions\": 1024,\n",
       "  \"reorder_and_upcast_attn\": false,\n",
       "  \"resid_pdrop\": 0.1,\n",
       "  \"scale_attn_by_inverse_layer_idx\": false,\n",
       "  \"scale_attn_weights\": true,\n",
       "  \"summary_activation\": null,\n",
       "  \"summary_first_dropout\": 0.1,\n",
       "  \"summary_proj_to_labels\": true,\n",
       "  \"summary_type\": \"cls_index\",\n",
       "  \"summary_use_proj\": true,\n",
       "  \"task_specific_params\": {\n",
       "    \"text-generation\": {\n",
       "      \"do_sample\": true,\n",
       "      \"max_length\": 50\n",
       "    }\n",
       "  },\n",
       "  \"transformers_version\": \"4.42.4\",\n",
       "  \"use_cache\": true,\n",
       "  \"vocab_size\": 50257\n",
       "}"
      ]
     },
     "execution_count": 2,
     "metadata": {},
     "output_type": "execute_result"
    }
   ],
   "source": [
    "model.config._attn_implementation = 'eager'"
   ]
  },
  {
   "cell_type": "code",
   "execution_count": 3,
   "metadata": {},
   "outputs": [],
   "source": [
    "from transformers import GPT2Tokenizer, GPT2Model\n",
    "# import model for text generation\n",
    "from transformers import AutoModelForCausalLM\n",
    "\n",
    "tokenizer = GPT2Tokenizer.from_pretrained('gpt2')\n",
    "model = AutoModelForCausalLM.from_pretrained('gpt2')\n",
    "# model = GPT2Model.from_pretrained('gpt2')\n",
    "\n",
    "# calculate entropy of output.logits[0][-1]\n",
    "\n",
    "import torch.nn.functional as F\n",
    "import numpy as np\n",
    "import torch"
   ]
  },
  {
   "cell_type": "code",
   "execution_count": 10,
   "metadata": {},
   "outputs": [
    {
     "data": {
      "text/plain": [
       "{'input_ids': tensor([[15496,    11,   616,  1438,   318,   220]]), 'attention_mask': tensor([[1, 1, 1, 1, 1, 1]])}"
      ]
     },
     "execution_count": 10,
     "metadata": {},
     "output_type": "execute_result"
    }
   ],
   "source": [
    "encoded_input"
   ]
  },
  {
   "cell_type": "code",
   "execution_count": 33,
   "metadata": {},
   "outputs": [
    {
     "name": "stdout",
     "output_type": "stream",
     "text": [
      "7.6633501052856445\n",
      "5.716493129730225\n",
      "4.899936199188232\n",
      "5.059242248535156\n",
      "0.2908230125904083\n",
      "5.74310827255249\n",
      "1.5726962089538574\n",
      "3.923997163772583\n",
      "3.6622202396392822\n",
      "4.971357345581055\n",
      "3.0886266231536865\n",
      "2.2112884521484375\n",
      "5.5584211349487305\n",
      "5.705196380615234\n",
      "0.00269798724912107\n",
      "5.461408615112305\n",
      "3.820371627807617\n",
      "5.155567169189453\n",
      "7.482385635375977\n",
      "6.324735164642334\n",
      "5.61191987991333\n",
      "5.796581268310547\n",
      "4.680413246154785\n",
      "5.531380653381348\n",
      "0.002950024791061878\n",
      "5.745975494384766\n",
      "4.094760894775391\n",
      "5.738474369049072\n",
      "2.299912929534912\n",
      "4.392082691192627\n",
      "4.109862804412842\n",
      "3.7297985553741455\n",
      "6.725366592407227\n",
      "1.6778080463409424\n",
      "2.565103769302368\n",
      "4.100427150726318\n",
      "2.8439579010009766\n",
      "0.0036910332273691893\n",
      "5.221877574920654\n",
      "4.118978023529053\n",
      "4.963592052459717\n",
      "3.6275196075439453\n",
      "5.500770568847656\n",
      "1.6828666925430298\n",
      "3.2893247604370117\n",
      "0.003938079345971346\n",
      "4.844231128692627\n",
      "4.598397254943848\n",
      "4.182580471038818\n",
      "3.5196447372436523\n",
      "3.8419222831726074\n",
      "2.003925323486328\n",
      "2.146571397781372\n",
      "2.185673236846924\n",
      "3.083015203475952\n",
      "5.049058437347412\n",
      "1.6175955533981323\n",
      "0.0035233087837696075\n",
      "5.173953056335449\n",
      "5.678922176361084\n",
      "4.622851371765137\n",
      "3.3785526752471924\n",
      "4.4876203536987305\n",
      "0.007953855209052563\n",
      "4.942920684814453\n",
      "2.607252836227417\n",
      "0.003610061015933752\n",
      "5.29608678817749\n",
      "3.899151563644409\n",
      "5.155623435974121\n",
      "6.0981526374816895\n",
      "2.550539255142212\n",
      "3.3836395740509033\n",
      "4.271551132202148\n",
      "1.767686367034912\n",
      "0.002801853232085705\n",
      "5.1649909019470215\n",
      "3.189520835876465\n",
      "4.3369879722595215\n",
      "3.4630959033966064\n",
      "2.562760591506958\n",
      "1.8300611972808838\n",
      "1.9380344152450562\n",
      "0.0030744564719498158\n",
      "5.597737789154053\n",
      "3.8498117923736572\n",
      "4.896577835083008\n",
      "2.97186541557312\n",
      "2.452704906463623\n",
      "2.100736141204834\n",
      "0.002598988590762019\n",
      "5.152491092681885\n",
      "4.112733364105225\n",
      "4.03679895401001\n",
      "6.450572967529297\n",
      "5.632047653198242\n",
      "4.605673789978027\n",
      "6.33022928237915\n",
      "4.969299793243408\n",
      "0.002317538019269705\n",
      "Hello, my name is Kurt 3.\n",
      "\n",
      "Yes, you're Kurt 3: Veronica\n",
      "\n",
      "7 9. Firefighter Agrant\n",
      "\n",
      "You're a clown and put some balls in my face\n",
      "\n",
      "I'm coming to find out\n",
      "\n",
      "and about what I need to do in our sorrow\n",
      "\n",
      "Human flesh and blood don't care\n",
      "\n",
      "We're the only people that care\n",
      "\n",
      "just how bad things might be\n",
      "\n",
      "or how cool it is\n",
      "\n",
      "to see the kids and the town\n",
      "\n",
      "\n"
     ]
    }
   ],
   "source": [
    "text = \"Hello, my name is\"\n",
    "encoded_input = tokenizer(text, return_tensors='pt')\n",
    "input_ids = encoded_input['input_ids']\n",
    "# print(encoded_input['input_ids'].shape)\n",
    "\n",
    "\n",
    "for i in range(100):\n",
    "    output = model(input_ids, output_hidden_states=True)\n",
    "    # print(tokenizer.decode(output.logits.argmax(2)[0][-1]))\n",
    "    logits = output.logits[0][-1]\n",
    "    probs = F.softmax(logits, dim=-1)\n",
    "    entropy = -torch.sum(probs * torch.log(probs), dim=-1)\n",
    "    print(entropy.item())\n",
    "    token = torch.multinomial(probs, 1)\n",
    "    # print(token)\n",
    "    input_ids = torch.cat([input_ids, token.unsqueeze(0)], dim=-1)\n",
    "\n",
    "print(tokenizer.decode(input_ids[0]))\n",
    "    "
   ]
  },
  {
   "cell_type": "code",
   "execution_count": 27,
   "metadata": {},
   "outputs": [
    {
     "data": {
      "text/plain": [
       "tensor([1.8466e-04, 1.0025e-04, 1.4836e-06,  ..., 3.6671e-08, 3.1466e-08,\n",
       "        3.8015e-05], grad_fn=<SoftmaxBackward0>)"
      ]
     },
     "execution_count": 27,
     "metadata": {},
     "output_type": "execute_result"
    }
   ],
   "source": [
    "probs"
   ]
  },
  {
   "cell_type": "code",
   "execution_count": 16,
   "metadata": {},
   "outputs": [
    {
     "data": {
      "text/plain": [
       "tensor([[29343]])"
      ]
     },
     "execution_count": 16,
     "metadata": {},
     "output_type": "execute_result"
    }
   ],
   "source": [
    "torch.argmax(logits, dim=-1).unsqueeze(0).unsqueeze(0)"
   ]
  },
  {
   "cell_type": "code",
   "execution_count": 41,
   "metadata": {},
   "outputs": [],
   "source": [
    "output['hidden_states'][0][0].detach().numpy().tofile(\"gpt_weights/input.bin\")\n",
    "output.logits[0].detach().numpy().tofile(\"gpt_weights/output.bin\")"
   ]
  },
  {
   "cell_type": "code",
   "execution_count": 12,
   "metadata": {},
   "outputs": [
    {
     "name": "stderr",
     "output_type": "stream",
     "text": [
      "The attention mask and the pad token id were not set. As a consequence, you may observe unexpected behavior. Please pass your input's `attention_mask` to obtain reliable results.\n",
      "Setting `pad_token_id` to `eos_token_id`:50256 for open-end generation.\n"
     ]
    },
    {
     "data": {
      "text/plain": [
       "(tensor([[15496,    11,   616,  1438,   318,  1757,    13,   314,  1101,   257,\n",
       "           6260,    11,   290,   314,  1101,   257,  6260,    13,   314,  1101,\n",
       "            257,  6260,    13,   314,  1101,   257,  6260,    13,   314,  1101,\n",
       "            257,  6260,    13,   314,  1101,   257,  6260,    13,   314,  1101,\n",
       "            257,  6260,    13,   314,  1101,   257,  6260,    13,   314,  1101,\n",
       "            257,  6260,    13,   314,  1101,   257,  6260,    13,   314,  1101,\n",
       "            257,  6260,    13,   314,  1101,   257,  6260,    13,   314,  1101,\n",
       "            257,  6260,    13,   314,  1101,   257,  6260,    13,   314,  1101,\n",
       "            257,  6260,    13,   314,  1101,   257,  6260,    13,   314,  1101,\n",
       "            257,  6260,    13,   314,  1101,   257,  6260,    13,   314,  1101,\n",
       "            257,  6260,    13,   314,  1101,   257,  6260,    13,   314]]),\n",
       " \"Hello, my name is John. I'm a writer, and I'm a writer. I'm a writer. I'm a writer. I'm a writer. I'm a writer. I'm a writer. I'm a writer. I'm a writer. I'm a writer. I'm a writer. I'm a writer. I'm a writer. I'm a writer. I'm a writer. I'm a writer. I'm a writer. I'm a writer. I'm a writer. I'm a writer. I\")"
      ]
     },
     "execution_count": 12,
     "metadata": {},
     "output_type": "execute_result"
    }
   ],
   "source": [
    "out = model.generate(encoded_input['input_ids'], max_length=109, do_sample=False)\n",
    "out, tokenizer.decode(out[0])"
   ]
  },
  {
   "cell_type": "code",
   "execution_count": null,
   "metadata": {},
   "outputs": [],
   "source": [
    "15496,    11,   616,  1438,   318,  1757,    13,   314,  1101, 257,\n",
    "6260, 11, 290, 314, 1101, 257, 6260, 13, 314, 1101, 257, 6260, 13, 314, 1101,\n",
    "257, 6260, 13, 314, 1101, 257, 6260, 13, 314, 1101, 257, 6260, 13, 314, 1101,\n",
    "257, 6260, 13, 314, 1101, 257, 6260, 13, 314, 1101, 257, 6260, 13, 314, 1101,\n",
    "257, 6260, 13, 314,"
   ]
  },
  {
   "cell_type": "code",
   "execution_count": 9,
   "metadata": {},
   "outputs": [],
   "source": [
    "out = [257, 6260, 11, 290, 314, 1101, 257, 6260, 13, 314, 1101, 257, 6260, 13, 314, 1101, 257, 6260, 13, 314, 1101, 257, 6260, 13, 314, 1101, 257, 6260, 13, 314, 1101, 257, 6260, 13, 314, 1101, 257, 6260, 13, 314, 1101, 257, 6260, 13, 314, 1101, 257, 6260, 13, 314, 1101, 257, 6260, 13, 314, 1101, 257, 6260, 13, 314, 1101, 257, 6260, 13, 314, 1101, 257, 6260, 13, 314, 1101, 257, 6260, 13, 314, 1101, 257, 6260, 13, 314, 1101, 257, 6260, 13, 314, 1101, 257, 6260, 13, 314, 1101, 257, 6260, 13, 314, 1101, 257, 6260, 13, 314]\n",
    "out2 = [257,\n",
    "           6260,    11,   290,   314,  1101,   257,  6260,    13,   314,  1101,\n",
    "            257,  6260,    13,   314,  1101,   257,  6260,    13,   314,  1101,\n",
    "            257,  6260,    13,   314,  1101,   257,  6260,    13,   314,  1101,\n",
    "            257,  6260,    13,   314,  1101,   257,  6260,    13,   314,  1101,\n",
    "            257,  6260,    13,   314,  1101,   257,  6260,    13,   314,  1101,\n",
    "            257,  6260,    13,   314,  1101,   257,  6260,    13,   314,  1101,\n",
    "            257,  6260,    13,   314,  1101,   257,  6260,    13,   314,  1101,\n",
    "            257,  6260,    13,   314,  1101,   257,  6260,    13,   314,  1101,\n",
    "            257,  6260,    13,   314,  1101,   257,  6260,    13,   314,  1101,\n",
    "            257,  6260,    13,   314,  1101,   257,  6260,    13,   314,  1101]"
   ]
  },
  {
   "cell_type": "code",
   "execution_count": 11,
   "metadata": {},
   "outputs": [
    {
     "data": {
      "text/plain": [
       "False"
      ]
     },
     "execution_count": 11,
     "metadata": {},
     "output_type": "execute_result"
    }
   ],
   "source": [
    "out == out2"
   ]
  },
  {
   "cell_type": "code",
   "execution_count": 10,
   "metadata": {},
   "outputs": [],
   "source": [
    "for i in range(len(out)):\n",
    "    if out[i] != out2[i]:\n",
    "        print(i, out[i], out2[i])"
   ]
  },
  {
   "cell_type": "code",
   "execution_count": 8,
   "metadata": {},
   "outputs": [
    {
     "data": {
      "text/plain": [
       "\" a writer, and I'm a writer. I'm a writer. I'm a writer. I'm a writer.\""
      ]
     },
     "execution_count": 8,
     "metadata": {},
     "output_type": "execute_result"
    }
   ],
   "source": [
    "tokenizer.decode([257,6260,11,290,314,1101,257,6260,13,314,1101,257,6260,13,314,1101,257,6260,13,314,1101,257,6260,13])"
   ]
  }
 ],
 "metadata": {
  "kernelspec": {
   "display_name": "misc",
   "language": "python",
   "name": "python3"
  },
  "language_info": {
   "codemirror_mode": {
    "name": "ipython",
    "version": 3
   },
   "file_extension": ".py",
   "mimetype": "text/x-python",
   "name": "python",
   "nbconvert_exporter": "python",
   "pygments_lexer": "ipython3",
   "version": "3.8.13"
  }
 },
 "nbformat": 4,
 "nbformat_minor": 2
}
