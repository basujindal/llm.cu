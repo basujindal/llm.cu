{
 "cells": [
  {
   "cell_type": "code",
   "execution_count": 10,
   "metadata": {},
   "outputs": [
    {
     "name": "stdout",
     "output_type": "stream",
     "text": [
      "Estimated memory usage: 0.53 GB\n"
     ]
    }
   ],
   "source": [
    "# GPT-2 Small Specifications\n",
    "num_layers = 12\n",
    "num_heads = 12\n",
    "vocab_size = 55236\n",
    "hidden_dim = 768\n",
    "seq_length = 2048\n",
    "\n",
    "# Memory for token embeddings\n",
    "token_embeddings = vocab_size * hidden_dim * 4  # 4 bytes per float32\n",
    "\n",
    "# Memory for position embeddings\n",
    "position_embeddings = seq_length * hidden_dim * 4\n",
    "\n",
    "# Memory for layer parameters (assuming layer normalization, attention, and feedforward for each layer)\n",
    "layer_norm = 2 * hidden_dim * 4  # 2 for scale and bias\n",
    "attention = 4 * hidden_dim * hidden_dim * 4  # Query, Key, Value, and Output matrices\n",
    "feedforward = 4 * hidden_dim * hidden_dim * 4  # Two linear layers, typically 4x expansion\n",
    "layer_params = (layer_norm + attention + feedforward) * num_layers\n",
    "\n",
    "# Memory for attention cache\n",
    "attention_cache = num_layers * num_heads * seq_length * (hidden_dim // num_heads) * 2 * 4  # Key and Value states\n",
    "\n",
    "# Memory for activations (rough estimate, varies during inference)\n",
    "activations = seq_length * hidden_dim * 4 * 3  # Rough estimate for main activations\n",
    "\n",
    "# Total memory\n",
    "total_memory = token_embeddings + position_embeddings + layer_params + attention_cache + activations\n",
    "\n",
    "# Convert to GB\n",
    "total_memory_gb = total_memory / (1024**3)\n",
    "\n",
    "print(f\"Estimated memory usage: {total_memory_gb:.2f} GB\")"
   ]
  },
  {
   "cell_type": "code",
   "execution_count": 6,
   "metadata": {},
   "outputs": [],
   "source": [
    "# save in a format readable by c\n",
    "import numpy as np\n",
    "import torch\n",
    "\n",
    "data = torch.load('pytorch_model.bin', map_location='cpu')"
   ]
  },
  {
   "cell_type": "code",
   "execution_count": 7,
   "metadata": {},
   "outputs": [
    {
     "name": "stdout",
     "output_type": "stream",
     "text": [
      "wte.weight torch.Size([50257, 768])\n",
      "wpe.weight torch.Size([1024, 768])\n",
      "h.0.ln_1.weight torch.Size([768])\n",
      "h.0.ln_1.bias torch.Size([768])\n",
      "h.0.attn.bias torch.Size([1, 1, 1024, 1024])\n",
      "h.0.attn.c_attn.weight torch.Size([768, 2304])\n",
      "h.0.attn.c_attn.bias torch.Size([2304])\n",
      "h.0.attn.c_proj.weight torch.Size([768, 768])\n",
      "h.0.attn.c_proj.bias torch.Size([768])\n",
      "h.0.ln_2.weight torch.Size([768])\n",
      "h.0.ln_2.bias torch.Size([768])\n",
      "h.0.mlp.c_fc.weight torch.Size([768, 3072])\n",
      "h.0.mlp.c_fc.bias torch.Size([3072])\n",
      "h.0.mlp.c_proj.weight torch.Size([3072, 768])\n",
      "h.0.mlp.c_proj.bias torch.Size([768])\n",
      "h.1.ln_1.weight torch.Size([768])\n",
      "h.1.ln_1.bias torch.Size([768])\n",
      "h.1.attn.bias torch.Size([1, 1, 1024, 1024])\n",
      "h.1.attn.c_attn.weight torch.Size([768, 2304])\n",
      "h.1.attn.c_attn.bias torch.Size([2304])\n",
      "h.1.attn.c_proj.weight torch.Size([768, 768])\n",
      "h.1.attn.c_proj.bias torch.Size([768])\n",
      "h.1.ln_2.weight torch.Size([768])\n",
      "h.1.ln_2.bias torch.Size([768])\n",
      "h.1.mlp.c_fc.weight torch.Size([768, 3072])\n",
      "h.1.mlp.c_fc.bias torch.Size([3072])\n",
      "h.1.mlp.c_proj.weight torch.Size([3072, 768])\n",
      "h.1.mlp.c_proj.bias torch.Size([768])\n",
      "h.2.ln_1.weight torch.Size([768])\n",
      "h.2.ln_1.bias torch.Size([768])\n",
      "h.2.attn.bias torch.Size([1, 1, 1024, 1024])\n",
      "h.2.attn.c_attn.weight torch.Size([768, 2304])\n",
      "h.2.attn.c_attn.bias torch.Size([2304])\n",
      "h.2.attn.c_proj.weight torch.Size([768, 768])\n",
      "h.2.attn.c_proj.bias torch.Size([768])\n",
      "h.2.ln_2.weight torch.Size([768])\n",
      "h.2.ln_2.bias torch.Size([768])\n",
      "h.2.mlp.c_fc.weight torch.Size([768, 3072])\n",
      "h.2.mlp.c_fc.bias torch.Size([3072])\n",
      "h.2.mlp.c_proj.weight torch.Size([3072, 768])\n",
      "h.2.mlp.c_proj.bias torch.Size([768])\n",
      "h.3.ln_1.weight torch.Size([768])\n",
      "h.3.ln_1.bias torch.Size([768])\n",
      "h.3.attn.bias torch.Size([1, 1, 1024, 1024])\n",
      "h.3.attn.c_attn.weight torch.Size([768, 2304])\n",
      "h.3.attn.c_attn.bias torch.Size([2304])\n",
      "h.3.attn.c_proj.weight torch.Size([768, 768])\n",
      "h.3.attn.c_proj.bias torch.Size([768])\n",
      "h.3.ln_2.weight torch.Size([768])\n",
      "h.3.ln_2.bias torch.Size([768])\n",
      "h.3.mlp.c_fc.weight torch.Size([768, 3072])\n",
      "h.3.mlp.c_fc.bias torch.Size([3072])\n",
      "h.3.mlp.c_proj.weight torch.Size([3072, 768])\n",
      "h.3.mlp.c_proj.bias torch.Size([768])\n",
      "h.4.ln_1.weight torch.Size([768])\n",
      "h.4.ln_1.bias torch.Size([768])\n",
      "h.4.attn.bias torch.Size([1, 1, 1024, 1024])\n",
      "h.4.attn.c_attn.weight torch.Size([768, 2304])\n",
      "h.4.attn.c_attn.bias torch.Size([2304])\n",
      "h.4.attn.c_proj.weight torch.Size([768, 768])\n",
      "h.4.attn.c_proj.bias torch.Size([768])\n",
      "h.4.ln_2.weight torch.Size([768])\n",
      "h.4.ln_2.bias torch.Size([768])\n",
      "h.4.mlp.c_fc.weight torch.Size([768, 3072])\n",
      "h.4.mlp.c_fc.bias torch.Size([3072])\n",
      "h.4.mlp.c_proj.weight torch.Size([3072, 768])\n",
      "h.4.mlp.c_proj.bias torch.Size([768])\n",
      "h.5.ln_1.weight torch.Size([768])\n",
      "h.5.ln_1.bias torch.Size([768])\n",
      "h.5.attn.bias torch.Size([1, 1, 1024, 1024])\n",
      "h.5.attn.c_attn.weight torch.Size([768, 2304])\n",
      "h.5.attn.c_attn.bias torch.Size([2304])\n",
      "h.5.attn.c_proj.weight torch.Size([768, 768])\n",
      "h.5.attn.c_proj.bias torch.Size([768])\n",
      "h.5.ln_2.weight torch.Size([768])\n",
      "h.5.ln_2.bias torch.Size([768])\n",
      "h.5.mlp.c_fc.weight torch.Size([768, 3072])\n",
      "h.5.mlp.c_fc.bias torch.Size([3072])\n",
      "h.5.mlp.c_proj.weight torch.Size([3072, 768])\n",
      "h.5.mlp.c_proj.bias torch.Size([768])\n",
      "h.6.ln_1.weight torch.Size([768])\n",
      "h.6.ln_1.bias torch.Size([768])\n",
      "h.6.attn.bias torch.Size([1, 1, 1024, 1024])\n",
      "h.6.attn.c_attn.weight torch.Size([768, 2304])\n",
      "h.6.attn.c_attn.bias torch.Size([2304])\n",
      "h.6.attn.c_proj.weight torch.Size([768, 768])\n",
      "h.6.attn.c_proj.bias torch.Size([768])\n",
      "h.6.ln_2.weight torch.Size([768])\n",
      "h.6.ln_2.bias torch.Size([768])\n",
      "h.6.mlp.c_fc.weight torch.Size([768, 3072])\n",
      "h.6.mlp.c_fc.bias torch.Size([3072])\n",
      "h.6.mlp.c_proj.weight torch.Size([3072, 768])\n",
      "h.6.mlp.c_proj.bias torch.Size([768])\n",
      "h.7.ln_1.weight torch.Size([768])\n",
      "h.7.ln_1.bias torch.Size([768])\n",
      "h.7.attn.bias torch.Size([1, 1, 1024, 1024])\n",
      "h.7.attn.c_attn.weight torch.Size([768, 2304])\n",
      "h.7.attn.c_attn.bias torch.Size([2304])\n",
      "h.7.attn.c_proj.weight torch.Size([768, 768])\n",
      "h.7.attn.c_proj.bias torch.Size([768])\n",
      "h.7.ln_2.weight torch.Size([768])\n",
      "h.7.ln_2.bias torch.Size([768])\n",
      "h.7.mlp.c_fc.weight torch.Size([768, 3072])\n",
      "h.7.mlp.c_fc.bias torch.Size([3072])\n",
      "h.7.mlp.c_proj.weight torch.Size([3072, 768])\n",
      "h.7.mlp.c_proj.bias torch.Size([768])\n",
      "h.8.ln_1.weight torch.Size([768])\n",
      "h.8.ln_1.bias torch.Size([768])\n",
      "h.8.attn.bias torch.Size([1, 1, 1024, 1024])\n",
      "h.8.attn.c_attn.weight torch.Size([768, 2304])\n",
      "h.8.attn.c_attn.bias torch.Size([2304])\n",
      "h.8.attn.c_proj.weight torch.Size([768, 768])\n",
      "h.8.attn.c_proj.bias torch.Size([768])\n",
      "h.8.ln_2.weight torch.Size([768])\n",
      "h.8.ln_2.bias torch.Size([768])\n",
      "h.8.mlp.c_fc.weight torch.Size([768, 3072])\n",
      "h.8.mlp.c_fc.bias torch.Size([3072])\n",
      "h.8.mlp.c_proj.weight torch.Size([3072, 768])\n",
      "h.8.mlp.c_proj.bias torch.Size([768])\n",
      "h.9.ln_1.weight torch.Size([768])\n",
      "h.9.ln_1.bias torch.Size([768])\n",
      "h.9.attn.bias torch.Size([1, 1, 1024, 1024])\n",
      "h.9.attn.c_attn.weight torch.Size([768, 2304])\n",
      "h.9.attn.c_attn.bias torch.Size([2304])\n",
      "h.9.attn.c_proj.weight torch.Size([768, 768])\n",
      "h.9.attn.c_proj.bias torch.Size([768])\n",
      "h.9.ln_2.weight torch.Size([768])\n",
      "h.9.ln_2.bias torch.Size([768])\n",
      "h.9.mlp.c_fc.weight torch.Size([768, 3072])\n",
      "h.9.mlp.c_fc.bias torch.Size([3072])\n",
      "h.9.mlp.c_proj.weight torch.Size([3072, 768])\n",
      "h.9.mlp.c_proj.bias torch.Size([768])\n",
      "h.10.ln_1.weight torch.Size([768])\n",
      "h.10.ln_1.bias torch.Size([768])\n",
      "h.10.attn.bias torch.Size([1, 1, 1024, 1024])\n",
      "h.10.attn.c_attn.weight torch.Size([768, 2304])\n",
      "h.10.attn.c_attn.bias torch.Size([2304])\n",
      "h.10.attn.c_proj.weight torch.Size([768, 768])\n",
      "h.10.attn.c_proj.bias torch.Size([768])\n",
      "h.10.ln_2.weight torch.Size([768])\n",
      "h.10.ln_2.bias torch.Size([768])\n",
      "h.10.mlp.c_fc.weight torch.Size([768, 3072])\n",
      "h.10.mlp.c_fc.bias torch.Size([3072])\n",
      "h.10.mlp.c_proj.weight torch.Size([3072, 768])\n",
      "h.10.mlp.c_proj.bias torch.Size([768])\n",
      "h.11.ln_1.weight torch.Size([768])\n",
      "h.11.ln_1.bias torch.Size([768])\n",
      "h.11.attn.bias torch.Size([1, 1, 1024, 1024])\n",
      "h.11.attn.c_attn.weight torch.Size([768, 2304])\n",
      "h.11.attn.c_attn.bias torch.Size([2304])\n",
      "h.11.attn.c_proj.weight torch.Size([768, 768])\n",
      "h.11.attn.c_proj.bias torch.Size([768])\n",
      "h.11.ln_2.weight torch.Size([768])\n",
      "h.11.ln_2.bias torch.Size([768])\n",
      "h.11.mlp.c_fc.weight torch.Size([768, 3072])\n",
      "h.11.mlp.c_fc.bias torch.Size([3072])\n",
      "h.11.mlp.c_proj.weight torch.Size([3072, 768])\n",
      "h.11.mlp.c_proj.bias torch.Size([768])\n",
      "ln_f.weight torch.Size([768])\n",
      "ln_f.bias torch.Size([768])\n"
     ]
    }
   ],
   "source": [
    "for i in data.keys():\n",
    "    print(i, data[i].shape)"
   ]
  },
  {
   "cell_type": "code",
   "execution_count": 9,
   "metadata": {},
   "outputs": [
    {
     "data": {
      "text/plain": [
       "<matplotlib.image.AxesImage at 0x717bd92ff640>"
      ]
     },
     "execution_count": 9,
     "metadata": {},
     "output_type": "execute_result"
    },
    {
     "data": {
      "image/png": "[encoded data removed]",
      "text/plain": [
       "<Figure size 432x288 with 1 Axes>"
      ]
     },
     "metadata": {
      "needs_background": "light"
     },
     "output_type": "display_data"
    }
   ],
   "source": [
    "# plot wpe.weight\n",
    "\n",
    "import matplotlib.pyplot as plt\n",
    "wpe = data['wpe.weight'].numpy()\n",
    "\n",
    "plt.imshow(wpe)"
   ]
  },
  {
   "cell_type": "code",
   "execution_count": 3,
   "metadata": {},
   "outputs": [
    {
     "data": {
      "text/plain": [
       "torch.Size([768, 768])"
      ]
     },
     "execution_count": 3,
     "metadata": {},
     "output_type": "execute_result"
    }
   ],
   "source": [
    "data['h.0.attn.c_proj.weight'].shape"
   ]
  },
  {
   "cell_type": "code",
   "execution_count": 9,
   "metadata": {},
   "outputs": [
    {
     "name": "stdout",
     "output_type": "stream",
     "text": [
      "(768, 768) (768, 768) (768, 768) torch.Size([768, 2304])\n",
      "(768,) (768,) (768,) torch.Size([2304])\n",
      "(768, 768) (768, 768) (768, 768) torch.Size([768, 2304])\n",
      "(768,) (768,) (768,) torch.Size([2304])\n",
      "(768, 768) (768, 768) (768, 768) torch.Size([768, 2304])\n",
      "(768,) (768,) (768,) torch.Size([2304])\n",
      "(768, 768) (768, 768) (768, 768) torch.Size([768, 2304])\n",
      "(768,) (768,) (768,) torch.Size([2304])\n",
      "(768, 768) (768, 768) (768, 768) torch.Size([768, 2304])\n",
      "(768,) (768,) (768,) torch.Size([2304])\n",
      "(768, 768) (768, 768) (768, 768) torch.Size([768, 2304])\n",
      "(768,) (768,) (768,) torch.Size([2304])\n",
      "(768, 768) (768, 768) (768, 768) torch.Size([768, 2304])\n",
      "(768,) (768,) (768,) torch.Size([2304])\n",
      "(768, 768) (768, 768) (768, 768) torch.Size([768, 2304])\n",
      "(768,) (768,) (768,) torch.Size([2304])\n",
      "(768, 768) (768, 768) (768, 768) torch.Size([768, 2304])\n",
      "(768,) (768,) (768,) torch.Size([2304])\n",
      "(768, 768) (768, 768) (768, 768) torch.Size([768, 2304])\n",
      "(768,) (768,) (768,) torch.Size([2304])\n",
      "(768, 768) (768, 768) (768, 768) torch.Size([768, 2304])\n",
      "(768,) (768,) (768,) torch.Size([2304])\n",
      "(768, 768) (768, 768) (768, 768) torch.Size([768, 2304])\n",
      "(768,) (768,) (768,) torch.Size([2304])\n"
     ]
    }
   ],
   "source": [
    "import os\n",
    "os.makedirs(\"gpt_weights\", exist_ok=True)\n",
    "for key in data.keys():\n",
    "    if \"attn.c_attn\" in key:\n",
    "        # split to q, k, v\n",
    "        q, k, v = np.split(data[key].numpy(), 3, axis=-1)\n",
    "        print(q.shape, k.shape, v.shape, data[key].shape)\n",
    "        # q.tofile(f\"gpt_weights/{key}.q.bin\")\n",
    "        # k.tofile(f\"gpt_weights/{key}.k.bin\")\n",
    "        # v.tofile(f\"gpt_weights/{key}.v.bin\")\n",
    "    else:\n",
    "        pass\n",
    "        # data[key].numpy().tofile(f\"gpt_weights/{key}.bin\")\n",
    "        # print(data[key].numpy().shape)\n",
    "\n",
    "# save transpose of wte.weight as etw.weight\n",
    "\n",
    "etw = data['wte.weight'].numpy().T\n",
    "etw.tofile(\"gpt_weights/etw.weight.bin\")"
   ]
  },
  {
   "cell_type": "code",
   "execution_count": 2,
   "metadata": {},
   "outputs": [
    {
     "data": {
      "text/plain": [
       "GPT2Config {\n",
       "  \"_name_or_path\": \"gpt2\",\n",
       "  \"activation_function\": \"gelu_new\",\n",
       "  \"architectures\": [\n",
       "    \"GPT2LMHeadModel\"\n",
       "  ],\n",
       "  \"attn_pdrop\": 0.1,\n",
       "  \"bos_token_id\": 50256,\n",
       "  \"embd_pdrop\": 0.1,\n",
       "  \"eos_token_id\": 50256,\n",
       "  \"initializer_range\": 0.02,\n",
       "  \"layer_norm_epsilon\": 1e-05,\n",
       "  \"model_type\": \"gpt2\",\n",
       "  \"n_ctx\": 1024,\n",
       "  \"n_embd\": 768,\n",
       "  \"n_head\": 12,\n",
       "  \"n_inner\": null,\n",
       "  \"n_layer\": 12,\n",
       "  \"n_positions\": 1024,\n",
       "  \"reorder_and_upcast_attn\": false,\n",
       "  \"resid_pdrop\": 0.1,\n",
       "  \"scale_attn_by_inverse_layer_idx\": false,\n",
       "  \"scale_attn_weights\": true,\n",
       "  \"summary_activation\": null,\n",
       "  \"summary_first_dropout\": 0.1,\n",
       "  \"summary_proj_to_labels\": true,\n",
       "  \"summary_type\": \"cls_index\",\n",
       "  \"summary_use_proj\": true,\n",
       "  \"task_specific_params\": {\n",
       "    \"text-generation\": {\n",
       "      \"do_sample\": true,\n",
       "      \"max_length\": 50\n",
       "    }\n",
       "  },\n",
       "  \"transformers_version\": \"4.42.4\",\n",
       "  \"use_cache\": true,\n",
       "  \"vocab_size\": 50257\n",
       "}"
      ]
     },
     "execution_count": 2,
     "metadata": {},
     "output_type": "execute_result"
    }
   ],
   "source": [
    "model.config._attn_implementation = 'eager'"
   ]
  },
  {
   "cell_type": "code",
   "execution_count": 1,
   "metadata": {},
   "outputs": [],
   "source": [
    "from transformers import GPT2Tokenizer, GPT2Model\n",
    "# import model for text generation\n",
    "from transformers import AutoModelForCausalLM\n",
    "\n",
    "tokenizer = GPT2Tokenizer.from_pretrained('gpt2')\n",
    "model = AutoModelForCausalLM.from_pretrained('gpt2')\n",
    "# model = GPT2Model.from_pretrained('gpt2')"
   ]
  },
  {
   "cell_type": "code",
   "execution_count": 3,
   "metadata": {},
   "outputs": [
    {
     "data": {
      "text/plain": [
       "(' a',\n",
       " tensor(257),\n",
       " {'input_ids': tensor([[15496,    11,   616,  1438,   318,  1757,    13,   314,  1101]]), 'attention_mask': tensor([[1, 1, 1, 1, 1, 1, 1, 1, 1]])})"
      ]
     },
     "execution_count": 3,
     "metadata": {},
     "output_type": "execute_result"
    }
   ],
   "source": [
    "text = \"Hello, my name is John. I'm\"\n",
    "encoded_input = tokenizer(text, return_tensors='pt')\n",
    "# print(encoded_input['input_ids'].shape)\n",
    "output = model(**encoded_input, output_hidden_states=True)\n",
    "tokenizer.decode(output.logits.argmax(2)[0][-1]), output.logits.argmax(2)[0][-1], encoded_input"
   ]
  },
  {
   "cell_type": "code",
   "execution_count": 41,
   "metadata": {},
   "outputs": [],
   "source": [
    "output['hidden_states'][0][0].detach().numpy().tofile(\"gpt_weights/input.bin\")\n",
    "output.logits[0].detach().numpy().tofile(\"gpt_weights/output.bin\")"
   ]
  },
  {
   "cell_type": "code",
   "execution_count": 12,
   "metadata": {},
   "outputs": [
    {
     "name": "stderr",
     "output_type": "stream",
     "text": [
      "The attention mask and the pad token id were not set. As a consequence, you may observe unexpected behavior. Please pass your input's `attention_mask` to obtain reliable results.\n",
      "Setting `pad_token_id` to `eos_token_id`:50256 for open-end generation.\n"
     ]
    },
    {
     "data": {
      "text/plain": [
       "(tensor([[15496,    11,   616,  1438,   318,  1757,    13,   314,  1101,   257,\n",
       "           6260,    11,   290,   314,  1101,   257,  6260,    13,   314,  1101,\n",
       "            257,  6260,    13,   314,  1101,   257,  6260,    13,   314,  1101,\n",
       "            257,  6260,    13,   314,  1101,   257,  6260,    13,   314,  1101,\n",
       "            257,  6260,    13,   314,  1101,   257,  6260,    13,   314,  1101,\n",
       "            257,  6260,    13,   314,  1101,   257,  6260,    13,   314,  1101,\n",
       "            257,  6260,    13,   314,  1101,   257,  6260,    13,   314,  1101,\n",
       "            257,  6260,    13,   314,  1101,   257,  6260,    13,   314,  1101,\n",
       "            257,  6260,    13,   314,  1101,   257,  6260,    13,   314,  1101,\n",
       "            257,  6260,    13,   314,  1101,   257,  6260,    13,   314,  1101,\n",
       "            257,  6260,    13,   314,  1101,   257,  6260,    13,   314]]),\n",
       " \"Hello, my name is John. I'm a writer, and I'm a writer. I'm a writer. I'm a writer. I'm a writer. I'm a writer. I'm a writer. I'm a writer. I'm a writer. I'm a writer. I'm a writer. I'm a writer. I'm a writer. I'm a writer. I'm a writer. I'm a writer. I'm a writer. I'm a writer. I'm a writer. I'm a writer. I\")"
      ]
     },
     "execution_count": 12,
     "metadata": {},
     "output_type": "execute_result"
    }
   ],
   "source": [
    "out = model.generate(encoded_input['input_ids'], max_length=109, do_sample=False)\n",
    "out, tokenizer.decode(out[0])"
   ]
  },
  {
   "cell_type": "code",
   "execution_count": 9,
   "metadata": {},
   "outputs": [],
   "source": [
    "out = [257, 6260, 11, 290, 314, 1101, 257, 6260, 13, 314, 1101, 257, 6260, 13, 314, 1101, 257, 6260, 13, 314, 1101, 257, 6260, 13, 314, 1101, 257, 6260, 13, 314, 1101, 257, 6260, 13, 314, 1101, 257, 6260, 13, 314, 1101, 257, 6260, 13, 314, 1101, 257, 6260, 13, 314, 1101, 257, 6260, 13, 314, 1101, 257, 6260, 13, 314, 1101, 257, 6260, 13, 314, 1101, 257, 6260, 13, 314, 1101, 257, 6260, 13, 314, 1101, 257, 6260, 13, 314, 1101, 257, 6260, 13, 314, 1101, 257, 6260, 13, 314, 1101, 257, 6260, 13, 314, 1101, 257, 6260, 13, 314]\n",
    "out2 = [257,\n",
    "           6260,    11,   290,   314,  1101,   257,  6260,    13,   314,  1101,\n",
    "            257,  6260,    13,   314,  1101,   257,  6260,    13,   314,  1101,\n",
    "            257,  6260,    13,   314,  1101,   257,  6260,    13,   314,  1101,\n",
    "            257,  6260,    13,   314,  1101,   257,  6260,    13,   314,  1101,\n",
    "            257,  6260,    13,   314,  1101,   257,  6260,    13,   314,  1101,\n",
    "            257,  6260,    13,   314,  1101,   257,  6260,    13,   314,  1101,\n",
    "            257,  6260,    13,   314,  1101,   257,  6260,    13,   314,  1101,\n",
    "            257,  6260,    13,   314,  1101,   257,  6260,    13,   314,  1101,\n",
    "            257,  6260,    13,   314,  1101,   257,  6260,    13,   314,  1101,\n",
    "            257,  6260,    13,   314,  1101,   257,  6260,    13,   314,  1101]"
   ]
  },
  {
   "cell_type": "code",
   "execution_count": 11,
   "metadata": {},
   "outputs": [
    {
     "data": {
      "text/plain": [
       "False"
      ]
     },
     "execution_count": 11,
     "metadata": {},
     "output_type": "execute_result"
    }
   ],
   "source": [
    "out == out2"
   ]
  },
  {
   "cell_type": "code",
   "execution_count": 10,
   "metadata": {},
   "outputs": [],
   "source": [
    "for i in range(len(out)):\n",
    "    if out[i] != out2[i]:\n",
    "        print(i, out[i], out2[i])"
   ]
  },
  {
   "cell_type": "code",
   "execution_count": 8,
   "metadata": {},
   "outputs": [
    {
     "data": {
      "text/plain": [
       "\" a writer, and I'm a writer. I'm a writer. I'm a writer. I'm a writer.\""
      ]
     },
     "execution_count": 8,
     "metadata": {},
     "output_type": "execute_result"
    }
   ],
   "source": [
    "tokenizer.decode([257,6260,11,290,314,1101,257,6260,13,314,1101,257,6260,13,314,1101,257,6260,13,314,1101,257,6260,13])"
   ]
  }
 ],
 "metadata": {
  "kernelspec": {
   "display_name": "misc",
   "language": "python",
   "name": "python3"
  },
  "language_info": {
   "codemirror_mode": {
    "name": "ipython",
    "version": 3
   },
   "file_extension": ".py",
   "mimetype": "text/x-python",
   "name": "python",
   "nbconvert_exporter": "python",
   "pygments_lexer": "ipython3",
   "version": "3.8.13"
  }
 },
 "nbformat": 4,
 "nbformat_minor": 2
}
